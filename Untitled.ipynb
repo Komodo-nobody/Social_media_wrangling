{
 "cells": [
  {
   "cell_type": "code",
   "execution_count": 1,
   "id": "004ad795-30ea-406d-9319-49be20f5435a",
   "metadata": {},
   "outputs": [
    {
     "ename": "AttributeError",
     "evalue": "module 'os' has no attribute 'mkrid'",
     "output_type": "error",
     "traceback": [
      "\u001b[1;31m---------------------------------------------------------------------------\u001b[0m",
      "\u001b[1;31mAttributeError\u001b[0m                            Traceback (most recent call last)",
      "Input \u001b[1;32mIn [1]\u001b[0m, in \u001b[0;36m<cell line: 7>\u001b[1;34m()\u001b[0m\n\u001b[0;32m      6\u001b[0m \u001b[38;5;28;01mimport\u001b[39;00m \u001b[38;5;21;01mpandas\u001b[39;00m\n\u001b[0;32m      7\u001b[0m \u001b[38;5;28;01mif\u001b[39;00m \u001b[38;5;129;01mnot\u001b[39;00m os\u001b[38;5;241m.\u001b[39mpath\u001b[38;5;241m.\u001b[39mexists(\u001b[38;5;124m\"\u001b[39m\u001b[38;5;124mhtml_files\u001b[39m\u001b[38;5;124m\"\u001b[39m):\n\u001b[1;32m----> 8\u001b[0m   \u001b[43mos\u001b[49m\u001b[38;5;241;43m.\u001b[39;49m\u001b[43mmkrid\u001b[49m(\u001b[38;5;124m\"\u001b[39m\u001b[38;5;124mhtml_files\u001b[39m\u001b[38;5;124m\"\u001b[39m)\n",
      "\u001b[1;31mAttributeError\u001b[0m: module 'os' has no attribute 'mkrid'"
     ]
    }
   ],
   "source": [
    "###Get programs###\n",
    "import requests\n",
    "import os\n",
    "import time\n",
    "import datetime\n",
    "import pandas\n",
    "if not os.path.exists(\"html_files\"):\n",
    "  os.mkrid(\"html_files\")"
   ]
  },
  {
   "cell_type": "code",
   "execution_count": 2,
   "id": "ded4e4d2-ea07-41cc-8707-9c0d0952ee15",
   "metadata": {},
   "outputs": [],
   "source": [
    "access_point=\"https://etherscan.io/gastracker\"\n",
    "response = requests.get(access_point)"
   ]
  },
  {
   "cell_type": "code",
   "execution_count": 3,
   "id": "171f63e1-d53a-4673-aa62-e7b111785850",
   "metadata": {},
   "outputs": [
    {
     "name": "stdout",
     "output_type": "stream",
     "text": [
      "20230928120244\n",
      "20230928120244\n",
      "20230928120244\n"
     ]
    }
   ],
   "source": [
    "for i in range(0, 3):\n",
    "  current_time = datetime.datetime.fromtimestamp(time.time()).strftime(\"%Y%m%d%H%M%S\")\n",
    "  print(current_time)"
   ]
  },
  {
   "cell_type": "code",
   "execution_count": 6,
   "id": "92e27789-531c-4313-9cd1-6a2841e8a0c0",
   "metadata": {},
   "outputs": [],
   "source": [
    "req = requests.Session()\n",
    "response = req.get(access_point, headers = headers)\n",
    "html = response.text"
   ]
  },
  {
   "cell_type": "code",
   "execution_count": 5,
   "id": "0437d9e7-bc60-4ac4-80d0-1eacb7154d62",
   "metadata": {},
   "outputs": [],
   "source": [
    "headers = {\n",
    "  'accept': '*/*',\n",
    "  'User-Agent': 'Mozilla/5.0 (Macintosh; Intel Mac OS X 10_15_7) AppleWebKit/537.36 (KHTML, like Gecko) Chrome/101.0.4951.64 Safari/537.36 Edg/101.0.1210.53',\n",
    "  'accept-language': 'en-US,en;q=0.9,it;q=0.8,es;q=0.7',\n",
    "  'referer': 'https://www.google.com/'\n",
    "}"
   ]
  },
  {
   "cell_type": "code",
   "execution_count": 7,
   "id": "370cff77-fda1-43a4-b7f9-f9003f49d776",
   "metadata": {},
   "outputs": [
    {
     "ename": "NameError",
     "evalue": "name 'f' is not defined",
     "output_type": "error",
     "traceback": [
      "\u001b[1;31m---------------------------------------------------------------------------\u001b[0m",
      "\u001b[1;31mNameError\u001b[0m                                 Traceback (most recent call last)",
      "Input \u001b[1;32mIn [7]\u001b[0m, in \u001b[0;36m<cell line: 1>\u001b[1;34m()\u001b[0m\n\u001b[1;32m----> 1\u001b[0m \u001b[43mf\u001b[49m\u001b[38;5;241m.\u001b[39mwrite(html)\n\u001b[0;32m      2\u001b[0m f\u001b[38;5;241m.\u001b[39mclose()\n",
      "\u001b[1;31mNameError\u001b[0m: name 'f' is not defined"
     ]
    }
   ],
   "source": [
    "f.write(html)\n",
    "f.close()"
   ]
  },
  {
   "cell_type": "code",
   "execution_count": null,
   "id": "e0c2be0f-dccd-4b42-914a-9b07c481613a",
   "metadata": {},
   "outputs": [],
   "source": []
  }
 ],
 "metadata": {
  "kernelspec": {
   "display_name": "Python 3 (ipykernel)",
   "language": "python",
   "name": "python3"
  },
  "language_info": {
   "codemirror_mode": {
    "name": "ipython",
    "version": 3
   },
   "file_extension": ".py",
   "mimetype": "text/x-python",
   "name": "python",
   "nbconvert_exporter": "python",
   "pygments_lexer": "ipython3",
   "version": "3.9.12"
  }
 },
 "nbformat": 4,
 "nbformat_minor": 5
}
